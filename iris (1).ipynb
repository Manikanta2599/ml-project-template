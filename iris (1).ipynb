{
 "cells": [
  {
   "cell_type": "markdown",
   "id": "d02d3ce5",
   "metadata": {},
   "source": [
    "# Iris Classifier (Week 1)\n",
    "\n",
    "This notebook trains a simple Logistic Regression model on the Iris dataset.\n",
    "Artifacts (model and scaler) are saved to the `reports/` directory.\n",
    "\n",
    "**How to use:** Run each cell from top to bottom. If `reports/` doesn't exist, create it."
   ]
  },
  {
   "cell_type": "code",
   "execution_count": null,
   "id": "6bd5fe05",
   "metadata": {},
   "outputs": [],
   "source": [
    "\n",
    "import pandas as pd\n",
    "import numpy as np\n",
    "from sklearn.datasets import load_iris\n",
    "from sklearn.model_selection import train_test_split\n",
    "from sklearn.preprocessing import StandardScaler\n",
    "from sklearn.linear_model import LogisticRegression\n",
    "from sklearn.metrics import accuracy_score, classification_report, confusion_matrix\n",
    "import matplotlib.pyplot as plt\n",
    "import joblib\n",
    "import os\n",
    "\n",
    "# Ensure reports directory exists\n",
    "os.makedirs(\"reports\", exist_ok=True)\n"
   ]
  },
  {
   "cell_type": "code",
   "execution_count": null,
   "id": "4d67d72f",
   "metadata": {},
   "outputs": [],
   "source": [
    "\n",
    "iris = load_iris(as_frame=True)\n",
    "df = iris.frame\n",
    "df.head()\n"
   ]
  },
  {
   "cell_type": "code",
   "execution_count": null,
   "id": "1e10714e",
   "metadata": {},
   "outputs": [],
   "source": [
    "\n",
    "pd.plotting.scatter_matrix(df.iloc[:, :4], figsize=(8, 8))\n",
    "plt.tight_layout()\n",
    "plt.show()\n"
   ]
  },
  {
   "cell_type": "code",
   "execution_count": null,
   "id": "f9eed13a",
   "metadata": {},
   "outputs": [],
   "source": [
    "\n",
    "X = df[iris.feature_names]\n",
    "y = df[\"target\"]\n",
    "\n",
    "X_train, X_test, y_train, y_test = train_test_split(\n",
    "    X, y, test_size=0.2, random_state=42, stratify=y\n",
    ")\n",
    "\n",
    "scaler = StandardScaler()\n",
    "X_train_scaled = scaler.fit_transform(X_train)\n",
    "X_test_scaled  = scaler.transform(X_test)\n",
    "\n",
    "model = LogisticRegression(max_iter=500)\n",
    "model.fit(X_train_scaled, y_train)\n",
    "\n",
    "preds = model.predict(X_test_scaled)\n",
    "acc = accuracy_score(y_test, preds)\n",
    "acc\n"
   ]
  },
  {
   "cell_type": "code",
   "execution_count": null,
   "id": "7f21bde9",
   "metadata": {},
   "outputs": [],
   "source": [
    "\n",
    "print(\"Accuracy:\", acc)\n",
    "print(\"\\nClassification report:\\n\", classification_report(y_test, preds, target_names=iris.target_names))\n",
    "print(\"\\nConfusion matrix:\\n\", confusion_matrix(y_test, preds))\n"
   ]
  },
  {
   "cell_type": "code",
   "execution_count": null,
   "id": "e18268c0",
   "metadata": {},
   "outputs": [],
   "source": [
    "\n",
    "joblib.dump(model, \"reports/iris_logreg.joblib\")\n",
    "joblib.dump(scaler, \"reports/scaler.joblib\")\n",
    "print(\"Saved: reports/iris_logreg.joblib and reports/scaler.joblib\")\n"
   ]
  }
 ],
 "metadata": {},
 "nbformat": 4,
 "nbformat_minor": 5
}